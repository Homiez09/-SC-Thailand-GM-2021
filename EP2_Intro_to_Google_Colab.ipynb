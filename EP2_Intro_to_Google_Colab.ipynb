{
  "nbformat": 4,
  "nbformat_minor": 0,
  "metadata": {
    "colab": {
      "name": "EP2 - Intro to Google Colab.ipynb",
      "provenance": [],
      "collapsed_sections": [],
      "include_colab_link": true
    }
  },
  "cells": [
    {
      "cell_type": "markdown",
      "metadata": {
        "id": "view-in-github",
        "colab_type": "text"
      },
      "source": [
        "<a href=\"https://colab.research.google.com/github/Homiez09/-SC-Thailand-GM-2021/blob/main/EP2_Intro_to_Google_Colab.ipynb\" target=\"_parent\"><img src=\"https://colab.research.google.com/assets/colab-badge.svg\" alt=\"Open In Colab\"/></a>"
      ]
    },
    {
      "metadata": {
        "id": "geoN47e-zkDK"
      },
      "cell_type": "markdown",
      "source": [
        "## Instruction\n",
        "อ่านวิธีการใช้งาน Google Colab สำหรับคอร์ส Python for Non-Programmer ได้ใน tutorial นี้"
      ]
    },
    {
      "cell_type": "code",
      "source": [
        ""
      ],
      "metadata": {
        "id": "-fUeSkB9eHbP"
      },
      "execution_count": null,
      "outputs": []
    },
    {
      "cell_type": "code",
      "source": [
        ""
      ],
      "metadata": {
        "id": "UfrDtvl9eHlz"
      },
      "execution_count": null,
      "outputs": []
    },
    {
      "cell_type": "code",
      "source": [
        ""
      ],
      "metadata": {
        "id": "8fq8xOtGeH0q"
      },
      "execution_count": null,
      "outputs": []
    },
    {
      "metadata": {
        "id": "3KBcMtkJvmrR"
      },
      "cell_type": "markdown",
      "source": [
        "## Google Colab คืออะไร?\n",
        "\n",
        "![alt text](https://images.unsplash.com/photo-1452830978618-d6feae7d0ffa?ixlib=rb-0.3.5&s=d6e68b2a08172c2d8e20335a17e56597&auto=format&fit=crop&w=500&q=60)\n",
        "\n",
        "[Google Colab](https://colab.research.google.com) เป็นโปรเจ็คที่พัฒนาโดยทีม Google Research ที่เปิดให้นักศึกษาและคนทั่วไปที่อยากเริ่มเขียนโค้ด Python ใช้งานได้ฟรีผ่าน Google Chrome Browser นักเรียนที่ยังไม่มี Chrome ต้อง install ก่อนนะครับ ดาวน์โหลดฟรี[ที่นี่]( https://www.google.com/chrome/)\n",
        "\n",
        "การใช้งาน Colab ง่ายมาก แค่พิมพ์โค้ดแล้วกดรันได้เลย เวลาเราเขียน Python บน Colab จะมี Cell สองแบบ ได้แก่\n",
        "\n",
        "*  Code Cell\n",
        "*  Text Cell "
      ]
    },
    {
      "metadata": {
        "id": "2hfiqVC0vBKb"
      },
      "cell_type": "markdown",
      "source": [
        "## Code Cell\n",
        "ใช้ในการเขียนโค้ด Python พอเขียนเสร็จ สามารถกดปุ่ม shortcut ในคีย์บอร์ด **SHIFT + Enter** เพื่อรันโค้ดใน Cell นั้นๆ"
      ]
    },
    {
      "metadata": {
        "id": "dAtDBKHwugp7",
        "cellView": "code",
        "outputId": "ee085b37-4fc9-4a58-8ff8-09c6c6060eac",
        "colab": {
          "base_uri": "https://localhost:8080/",
          "height": 53
        }
      },
      "cell_type": "code",
      "source": [
        "# Code Cell\n",
        "# กดปุ่ม SHIFT + ENTER เพื่อรันโค้ดใน cell นี้\n",
        "print(\"Hello World\")\n",
        "\n",
        "print(\"Anything\")"
      ],
      "execution_count": null,
      "outputs": [
        {
          "output_type": "stream",
          "text": [
            "Hello World\n",
            "Anything\n"
          ],
          "name": "stdout"
        }
      ]
    },
    {
      "metadata": {
        "id": "uqrt__EEygRO"
      },
      "cell_type": "code",
      "source": [
        "# Basic Calculation\n",
        "print(1 + 1)\n",
        "print(2 * 3)"
      ],
      "execution_count": null,
      "outputs": []
    },
    {
      "metadata": {
        "id": "Z4yPMyLIyEL_"
      },
      "cell_type": "code",
      "source": [
        "# Basic String\n",
        "print(\"I'm learning Python Programming \" + \"!!!\")"
      ],
      "execution_count": null,
      "outputs": []
    },
    {
      "metadata": {
        "id": "-BTgK8feurpY"
      },
      "cell_type": "markdown",
      "source": [
        "## Text Cell\n",
        "ส่วนตรงนี้เราเรียกว่า TEXT CELL (หรือที่เรียกกันว่า [Markdown Language](https://en.wikipedia.org/wiki/Markdown)) \n",
        "\n",
        "นักเรียนสามารถเอาเมาส์ double click ที่ text cell เพื่อแก้ไขข้อความใน cell นี้ได้เลย ปกติเราใช้ text cell เพื่อจดโน้ตต่างๆ หรือใช้เขียนอธิบายโค้ดของเราให้คนอื่นที่มาอ่านโค้ดจะได้เข้าใจง่ายๆ\n",
        "\n",
        "ลองกด **SHIFT + ENTER** รันโค้ดใน cell ถัดไป"
      ]
    },
    {
      "metadata": {
        "id": "CtoF5NSJ7zKh"
      },
      "cell_type": "code",
      "source": [
        "# Example code\n",
        "print(\"สวัสดีนักเรียน !!\")\n",
        "\n",
        "while True:\n",
        "  your_answer = input(\"\\n2 * 7 มีค่าเท่ากับเท่าไหร่? \")\n",
        "  if int(your_answer) == 14:\n",
        "    print(\"\\n14! ถูกต้องนะคร๊าบบบบ\")\n",
        "    break\n",
        "  else:\n",
        "    print(\"\\nยังไม่ใช่น๊า ลองตอบใหม่อีกทีซิ\")"
      ],
      "execution_count": null,
      "outputs": []
    },
    {
      "metadata": {
        "id": "ucPXIl4F7dZz"
      },
      "cell_type": "markdown",
      "source": [
        "## Save File\n",
        "เราสามารถ save โค้ดที่เราเขียนไว้บน Google Drive ของเราได้ด้วย อย่าลืมกด **CTRL + S** เพื่อเซฟไฟล์ของเราเรื่อยๆ :)"
      ]
    },
    {
      "metadata": {
        "id": "s7rIyt8-z0rt"
      },
      "cell_type": "markdown",
      "source": [
        "## Summary\n",
        "จบแล้วกับบทนี้ ไม่ยากเลยใช่ป่าว? #ง่ายอะไรเบอร์นี้\n",
        "ตอนนี้ทุกคนใช้ Google Colab เป็นแล้วครับ เด๋วเราไปเจอกันต่อในวีดีโอต่อไป"
      ]
    }
  ]
}